{
 "cells": [
  {
   "cell_type": "markdown",
   "metadata": {},
   "source": [
    "### Steven Smith (23658589)\n",
    "## 6/12/2020\n",
    "# Assignment 1 GAP Purchase"
   ]
  },
  {
   "cell_type": "code",
   "execution_count": 13,
   "metadata": {},
   "outputs": [],
   "source": [
    "# Declaration of variables\n",
    "jeans = 0.0\n",
    "t_shirt = 0.0\n",
    "purchase_amount = 0.0\n",
    "total_sale = 0.0\n",
    "total_state_sales_tax = 0.0\n",
    "total_county_sales_tax = 0.0\n",
    "total_sales_tax = 0.0\n",
    "state_sales_tax = 0.04\n",
    "county_sales_tax = 0.04875"
   ]
  },
  {
   "cell_type": "code",
   "execution_count": 14,
   "metadata": {},
   "outputs": [
    {
     "name": "stdout",
     "output_type": "stream",
     "text": [
      "Enter the charge for the jeans: 65\n",
      "Enter the charge for the t-shirt: 45\n"
     ]
    }
   ],
   "source": [
    "#Insert values\n",
    "jeans = float(input('Enter the charge for the jeans: '))\n",
    "t_shirt = float(input('Enter the charge for the t-shirt: '))"
   ]
  },
  {
   "cell_type": "code",
   "execution_count": 15,
   "metadata": {},
   "outputs": [],
   "source": [
    "total_state_sales_tax = (jeans*state_sales_tax) + (t_shirt*state_sales_tax)"
   ]
  },
  {
   "cell_type": "code",
   "execution_count": 16,
   "metadata": {},
   "outputs": [],
   "source": [
    "total_county_sales_tax = (jeans*county_sales_tax)+(t_shirt*county_sales_tax)"
   ]
  },
  {
   "cell_type": "code",
   "execution_count": 17,
   "metadata": {},
   "outputs": [],
   "source": [
    "total_sales_tax = total_state_sales_tax + total_county_sales_tax"
   ]
  },
  {
   "cell_type": "code",
   "execution_count": 18,
   "metadata": {},
   "outputs": [],
   "source": [
    "purchase_amount = jeans + t_shirt"
   ]
  },
  {
   "cell_type": "code",
   "execution_count": 19,
   "metadata": {},
   "outputs": [],
   "source": [
    "total_sale = purchase_amount + total_sales_tax"
   ]
  },
  {
   "cell_type": "code",
   "execution_count": 20,
   "metadata": {},
   "outputs": [
    {
     "name": "stdout",
     "output_type": "stream",
     "text": [
      "Amount of Purchase: $  110.00\n",
      "State Sales Tax: $  4.40\n",
      "County Sales Tax: $  5.36\n",
      "Total Sales Tax: $  9.76\n",
      "Total Sale: $  119.76\n"
     ]
    }
   ],
   "source": [
    "print('Amount of Purchase: $', format(purchase_amount, ' .2f'))\n",
    "print('State Sales Tax: $', format(total_state_sales_tax, ' .2f'))\n",
    "print('County Sales Tax: $', format(total_county_sales_tax, ' .2f'))\n",
    "print('Total Sales Tax: $', format(total_sales_tax, ' .2f'))\n",
    "print('Total Sale: $', format(total_sale, ' .2f'))"
   ]
  },
  {
   "cell_type": "code",
   "execution_count": null,
   "metadata": {},
   "outputs": [],
   "source": []
  }
 ],
 "metadata": {
  "kernelspec": {
   "display_name": "Python 3",
   "language": "python",
   "name": "python3"
  },
  "language_info": {
   "codemirror_mode": {
    "name": "ipython",
    "version": 3
   },
   "file_extension": ".py",
   "mimetype": "text/x-python",
   "name": "python",
   "nbconvert_exporter": "python",
   "pygments_lexer": "ipython3",
   "version": "3.7.6"
  }
 },
 "nbformat": 4,
 "nbformat_minor": 4
}
